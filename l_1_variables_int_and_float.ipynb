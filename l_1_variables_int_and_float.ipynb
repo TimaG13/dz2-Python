{
 "cells": [
  {
   "cell_type": "markdown",
   "metadata": {
    "pycharm": {
     "name": "#%% md\n"
    }
   },
   "source": [
    "## Змінні"
   ]
  },
  {
   "cell_type": "markdown",
   "metadata": {
    "pycharm": {
     "name": "#%% md\n"
    }
   },
   "source": [
    "### Визначення змінної\n",
    "**Змінна** - іменована область пам'яті, адресу якої можна використовувати для здійснення доступу до даних.\n",
    "Дані, що знаходяться в пам'яті (адреса на них перебуває у змінній), називаються значенням цієї змінної.\n",
    "Якщо тип даних визначається на етапі компіляції, має місце **статична типізація**, а якщо на етапі\n",
    "виконання програми – **динамічна**.\n",
    "\n",
    "**У Python використовується динамічна типізація!!!**\n"
   ]
  },
  {
   "cell_type": "markdown",
   "metadata": {
    "pycharm": {
     "name": "#%% md\n"
    }
   },
   "source": [
    "#### Особливості оголошення змінних у Python\n",
    "- Можна оголосити довільну кількість змінних (не більше розміру ОЗУ). Головне придумати їм імена та присвоїти початкові значення.\n",
    "\n",
    "- Можна використовувати будь-які імена крім зарезервованих\n",
    "  \n",
    "- Є рекомендації щодо написання назв змінних - це офіційна рекомендація PEP 8 - Style Guide for Python Code\n",
    "\n",
    "- Стиль для іменування змінних називається \"Snake case\"."
   ]
  },
  {
   "cell_type": "markdown",
   "metadata": {},
   "source": [
    "### зарезервовані імена Python\n"
   ]
  },
  {
   "cell_type": "code",
   "execution_count": 1,
   "metadata": {
    "pycharm": {
     "name": "#%%\n"
    }
   },
   "outputs": [
    {
     "name": "stdout",
     "output_type": "stream",
     "text": [
      "['False', 'None', 'True', 'and', 'as', 'assert', 'async', 'await', 'break', 'class', 'continue', 'def', 'del', 'elif', 'else', 'except', 'finally', 'for', 'from', 'global', 'if', 'import', 'in', 'is', 'lambda', 'nonlocal', 'not', 'or', 'pass', 'raise', 'return', 'try', 'while', 'with', 'yield']\n"
     ]
    }
   ],
   "source": [
    "import keyword\n",
    "print(keyword.kwlist)"
   ]
  },
  {
   "cell_type": "markdown",
   "metadata": {
    "pycharm": {
     "name": "#%% md\n"
    }
   },
   "source": [
    "### Як оголосити змінну в Python"
   ]
  },
  {
   "cell_type": "code",
   "execution_count": 2,
   "metadata": {
    "pycharm": {
     "name": "#%%\n"
    }
   },
   "outputs": [],
   "source": [
    "age = 35 "
   ]
  },
  {
   "cell_type": "markdown",
   "metadata": {},
   "source": [
    "**функція id повертає значення адреси пам'яті, де знаходяться дані**"
   ]
  },
  {
   "cell_type": "code",
   "execution_count": 3,
   "metadata": {
    "pycharm": {
     "name": "#%%\n"
    }
   },
   "outputs": [
    {
     "name": "stdout",
     "output_type": "stream",
     "text": [
      "9794176\n"
     ]
    }
   ],
   "source": [
    "print(id(age)) # в age вказівник на область пам'яті, де лежить 35"
   ]
  },
  {
   "cell_type": "code",
   "execution_count": 4,
   "metadata": {},
   "outputs": [
    {
     "name": "stdout",
     "output_type": "stream",
     "text": [
      "9794176\n"
     ]
    }
   ],
   "source": [
    "print(id(35)) # та сама адреса"
   ]
  },
  {
   "cell_type": "code",
   "execution_count": 5,
   "metadata": {},
   "outputs": [
    {
     "name": "stdout",
     "output_type": "stream",
     "text": [
      "9794176\n"
     ]
    }
   ],
   "source": [
    "y = 35\n",
    "print(id(y))"
   ]
  },
  {
   "cell_type": "code",
   "execution_count": 6,
   "metadata": {},
   "outputs": [
    {
     "name": "stdout",
     "output_type": "stream",
     "text": [
      "9794176\n"
     ]
    }
   ],
   "source": [
    "z = y\n",
    "print(id(z)) # age, y та z - та сама адреса"
   ]
  },
  {
   "cell_type": "markdown",
   "metadata": {},
   "source": [
    "**Числа до 257 завантажуються в оперативну пам'ять разом із інтерпретатором**"
   ]
  },
  {
   "cell_type": "code",
   "execution_count": 7,
   "metadata": {
    "pycharm": {
     "name": "#%%\n"
    }
   },
   "outputs": [
    {
     "name": "stdout",
     "output_type": "stream",
     "text": [
      "9801248\n"
     ]
    }
   ],
   "source": [
    "print(id(256))"
   ]
  },
  {
   "cell_type": "code",
   "execution_count": 8,
   "metadata": {
    "pycharm": {
     "name": "#%%\n"
    }
   },
   "outputs": [
    {
     "name": "stdout",
     "output_type": "stream",
     "text": [
      "140027550481584\n"
     ]
    }
   ],
   "source": [
    "print(id(257)) # Порядок (кількість цифр у числі) значення адреси кардинально більше, ніж адреса для числа 256"
   ]
  },
  {
   "cell_type": "code",
   "execution_count": 9,
   "metadata": {},
   "outputs": [
    {
     "name": "stdout",
     "output_type": "stream",
     "text": [
      "140027550480400\n"
     ]
    }
   ],
   "source": [
    "print(id(234567))"
   ]
  },
  {
   "cell_type": "code",
   "execution_count": 10,
   "metadata": {
    "pycharm": {
     "name": "#%%\n"
    }
   },
   "outputs": [
    {
     "name": "stdout",
     "output_type": "stream",
     "text": [
      "Oleg\n",
      "140027550408240\n",
      "140027550408240\n"
     ]
    }
   ],
   "source": [
    "my_name = \"Oleg\" # Створення змінної для рядка\n",
    "print(my_name)\n",
    "\n",
    "print(id(my_name))\n",
    "print(id('Oleg'))"
   ]
  },
  {
   "cell_type": "markdown",
   "metadata": {},
   "source": [
    "**Можливість змінити значення змінних між собою**"
   ]
  },
  {
   "cell_type": "code",
   "execution_count": 11,
   "metadata": {
    "pycharm": {
     "name": "#%%\n"
    }
   },
   "outputs": [
    {
     "name": "stdout",
     "output_type": "stream",
     "text": [
      "20 10\n"
     ]
    }
   ],
   "source": [
    "x = 10\n",
    "y = 20\n",
    "x, y = y, x\n",
    "print(x, y)\n"
   ]
  },
  {
   "cell_type": "markdown",
   "metadata": {
    "pycharm": {
     "name": "#%% md\n"
    }
   },
   "source": [
    "#### my_name і My_name - це різні змінні!"
   ]
  },
  {
   "cell_type": "code",
   "execution_count": 12,
   "metadata": {
    "pycharm": {
     "name": "#%%\n"
    }
   },
   "outputs": [
    {
     "data": {
      "text/html": [
       "<style>\n",
       "table {float:left}\n",
       "table th, table td {text-align:center !important; font-size: 150%;}\n",
       "</style>\n"
      ],
      "text/plain": [
       "<IPython.core.display.HTML object>"
      ]
     },
     "metadata": {},
     "output_type": "display_data"
    }
   ],
   "source": [
    "%%html\n",
    "<style>\n",
    "table {float:left}\n",
    "table th, table td {text-align:center !important; font-size: 150%;}\n",
    "</style>"
   ]
  },
  {
   "cell_type": "markdown",
   "metadata": {
    "pycharm": {
     "name": "#%% md\n"
    }
   },
   "source": [
    "### Список вбудованих типів у Python\n",
    "|Type |Назва |Тип даних|Приклад |\n",
    "| :---: | :---: | :---: |:---: |\n",
    "| Номер | Число | Незмінний | 123, 0.5, 1+2j, Decimal(), Fraction() |\n",
    "| String | Рядок | Незмінний | \"Hello world\", 'Hello' |\n",
    "| List | Список | Змінюваний | [1, 4, 5] |\n",
    "| Dictionary | Словник | Змінюваний | {1:\"one\", 2:\"two\"} |\n",
    "| Tuple | Кортеж | Незмінний | (1, 4, 5) |\n",
    "| File | Файл | Змінюваний | open(\"a.txt\") |\n",
    "| Set | Множина | Змінюваний | {1, 4, 5, 6, 7} |"
   ]
  },
  {
   "cell_type": "markdown",
   "metadata": {
    "pycharm": {
     "name": "#%% md\n"
    }
   },
   "source": [
    "### Як дізнатися тип даних?"
   ]
  },
  {
   "cell_type": "markdown",
   "metadata": {},
   "source": [
    "**Функція type повертає значення типу, до якого належать дані**"
   ]
  },
  {
   "cell_type": "code",
   "execution_count": 13,
   "metadata": {
    "pycharm": {
     "name": "#%%\n"
    }
   },
   "outputs": [
    {
     "name": "stdout",
     "output_type": "stream",
     "text": [
      "<class 'str'>\n",
      "<class 'int'>\n"
     ]
    }
   ],
   "source": [
    "print(type(my_name))\n",
    "print(type(age))"
   ]
  },
  {
   "cell_type": "code",
   "execution_count": 14,
   "metadata": {
    "pycharm": {
     "name": "#%%\n"
    }
   },
   "outputs": [
    {
     "name": "stdout",
     "output_type": "stream",
     "text": [
      "<class 'str'>\n",
      "<class 'int'>\n",
      "<class 'float'>\n"
     ]
    }
   ],
   "source": [
    "print(type('name'))\n",
    "print(type(2))\n",
    "print(type(2.6))"
   ]
  },
  {
   "cell_type": "markdown",
   "metadata": {
    "pycharm": {
     "name": "#%% md\n"
    }
   },
   "source": [
    "### Числові типи даних у Python\n",
    "Цілі числа - числа, що використовуються для представлення цілої кількості предметів. Тобто у них нема\n",
    "дрібної частини. В Python цілі числа представлені типом int. Можуть містити довільну кількість знаків (не більше\n",
    "розміру ОЗП)\n"
   ]
  },
  {
   "cell_type": "markdown",
   "metadata": {
    "pycharm": {
     "name": "#%% md\n"
    }
   },
   "source": [
    "### Основні арифметичні дії з числами в Python\n",
    "|Вигляд оператора | Його математичний еквівалент\n",
    "| :---: | :---: |\n",
    "| + | Операція додавання |\n",
    "| - | Операція віднімання |\n",
    "| * | Операція множення\n",
    "| / | Операція поділу\n",
    "| // | Розподіл із заокругленням до мінімального цілого |\n",
    "| % | Залишок від поділу |\n",
    "| () | Зміна пріоритету операцій\n",
    "| `**` | Зведення у ступінь |\n",
    "\n",
    "\n",
    "\n",
    "**Пріоритет арифметичних операторів у Python такий самий, як і в математиці!!!**"
   ]
  },
  {
   "cell_type": "markdown",
   "metadata": {},
   "source": [
    "**Деякі особливості операторів поділу**"
   ]
  },
  {
   "cell_type": "code",
   "execution_count": 15,
   "metadata": {
    "pycharm": {
     "name": "#%%\n"
    }
   },
   "outputs": [
    {
     "data": {
      "text/plain": [
       "3.6666666666666665"
      ]
     },
     "execution_count": 15,
     "metadata": {},
     "output_type": "execute_result"
    }
   ],
   "source": [
    "11 / 3  \n"
   ]
  },
  {
   "cell_type": "code",
   "execution_count": 16,
   "metadata": {
    "pycharm": {
     "name": "#%%\n"
    }
   },
   "outputs": [
    {
     "name": "stdout",
     "output_type": "stream",
     "text": [
      "3\n"
     ]
    }
   ],
   "source": [
    "print(11 // 3) #  Округлення в найменший бік\n"
   ]
  },
  {
   "cell_type": "code",
   "execution_count": 17,
   "metadata": {},
   "outputs": [
    {
     "name": "stdout",
     "output_type": "stream",
     "text": [
      "2\n"
     ]
    }
   ],
   "source": [
    "print(11 % 3) # Цілочисельний залишок від розподілу"
   ]
  },
  {
   "cell_type": "code",
   "execution_count": 18,
   "metadata": {},
   "outputs": [
    {
     "name": "stdout",
     "output_type": "stream",
     "text": [
      "1.9999999999999996\n"
     ]
    }
   ],
   "source": [
    "print(0.6666666666666665 * 3) # майже дорівнює 11 % 3"
   ]
  },
  {
   "cell_type": "code",
   "execution_count": 19,
   "metadata": {
    "pycharm": {
     "name": "#%%\n"
    }
   },
   "outputs": [
    {
     "name": "stdout",
     "output_type": "stream",
     "text": [
      "11\n"
     ]
    }
   ],
   "source": [
    "print(3 * (11 // 3) + (11 % 3))  # Отримаємо значення 11\n"
   ]
  },
  {
   "cell_type": "markdown",
   "metadata": {},
   "source": [
    "**Функція divmod замінює дві дії поділу // і %, і повертає результат цих двох дій**"
   ]
  },
  {
   "cell_type": "code",
   "execution_count": 20,
   "metadata": {
    "pycharm": {
     "name": "#%%\n"
    }
   },
   "outputs": [
    {
     "name": "stdout",
     "output_type": "stream",
     "text": [
      "3 2\n"
     ]
    }
   ],
   "source": [
    "x, y = divmod(11, 3)\n",
    "print(x, y)"
   ]
  },
  {
   "cell_type": "code",
   "execution_count": 21,
   "metadata": {
    "pycharm": {
     "name": "#%%\n"
    }
   },
   "outputs": [
    {
     "name": "stdout",
     "output_type": "stream",
     "text": [
      "-4\n"
     ]
    }
   ],
   "source": [
    "print(-11 // 3) # У менший бік!"
   ]
  },
  {
   "cell_type": "code",
   "execution_count": 22,
   "metadata": {},
   "outputs": [
    {
     "name": "stdout",
     "output_type": "stream",
     "text": [
      "1\n"
     ]
    }
   ],
   "source": [
    "print(-11 % 3) # Сюрприз :)"
   ]
  },
  {
   "cell_type": "code",
   "execution_count": 23,
   "metadata": {},
   "outputs": [
    {
     "name": "stdout",
     "output_type": "stream",
     "text": [
      "-11\n"
     ]
    }
   ],
   "source": [
    "print(3 * (-11 // 3) + (-11 % 3)) #  Відновимо число"
   ]
  },
  {
   "cell_type": "code",
   "execution_count": 24,
   "metadata": {},
   "outputs": [
    {
     "data": {
      "text/plain": [
       "(-4, 1)"
      ]
     },
     "execution_count": 24,
     "metadata": {},
     "output_type": "execute_result"
    }
   ],
   "source": [
    "divmod(-11, 3)"
   ]
  },
  {
   "cell_type": "code",
   "execution_count": 25,
   "metadata": {
    "scrolled": true
   },
   "outputs": [
    {
     "data": {
      "text/plain": [
       "(-5, 2)"
      ]
     },
     "execution_count": 25,
     "metadata": {},
     "output_type": "execute_result"
    }
   ],
   "source": [
    "divmod(-13, 3)  # ?"
   ]
  },
  {
   "cell_type": "code",
   "execution_count": 26,
   "metadata": {},
   "outputs": [
    {
     "name": "stdout",
     "output_type": "stream",
     "text": [
      "-5\n"
     ]
    }
   ],
   "source": [
    "print(-13 // 3)"
   ]
  },
  {
   "cell_type": "code",
   "execution_count": 28,
   "metadata": {},
   "outputs": [
    {
     "name": "stdout",
     "output_type": "stream",
     "text": [
      "0\n"
     ]
    }
   ],
   "source": [
    "print(21232432563657485697987983 % 9) # 0, 1, 2, 3, 4, 5, 6, 7, 8 - Можливі варіанти чисел, від нуля до дільника мінус один\n"
   ]
  },
  {
   "cell_type": "code",
   "execution_count": 29,
   "metadata": {},
   "outputs": [
    {
     "name": "stdout",
     "output_type": "stream",
     "text": [
      "2359159173739720633109776\n"
     ]
    }
   ],
   "source": [
    "print(21232432563657485697987984 // 9)"
   ]
  },
  {
   "cell_type": "code",
   "execution_count": 30,
   "metadata": {},
   "outputs": [
    {
     "ename": "NameError",
     "evalue": "name 'b' is not defined",
     "output_type": "error",
     "traceback": [
      "\u001b[0;31m---------------------------------------------------------------------------\u001b[0m",
      "\u001b[0;31mNameError\u001b[0m                                 Traceback (most recent call last)",
      "\u001b[0;32m/tmp/ipykernel_4714/1389830279.py\u001b[0m in \u001b[0;36m<module>\u001b[0;34m\u001b[0m\n\u001b[1;32m      1\u001b[0m \u001b[0;31m# Важливо! Усі змінні мають бути оголошені до їх використання.\u001b[0m\u001b[0;34m\u001b[0m\u001b[0;34m\u001b[0m\u001b[0;34m\u001b[0m\u001b[0m\n\u001b[1;32m      2\u001b[0m \u001b[0ma\u001b[0m \u001b[0;34m=\u001b[0m \u001b[0;36m5\u001b[0m\u001b[0;34m\u001b[0m\u001b[0;34m\u001b[0m\u001b[0m\n\u001b[0;32m----> 3\u001b[0;31m \u001b[0mc\u001b[0m \u001b[0;34m=\u001b[0m \u001b[0ma\u001b[0m \u001b[0;34m+\u001b[0m \u001b[0mb\u001b[0m \u001b[0;34m*\u001b[0m \u001b[0;36m3\u001b[0m \u001b[0;31m# Помилка!\u001b[0m\u001b[0;34m\u001b[0m\u001b[0;34m\u001b[0m\u001b[0m\n\u001b[0m\u001b[1;32m      4\u001b[0m \u001b[0mb\u001b[0m \u001b[0;34m=\u001b[0m \u001b[0;36m10\u001b[0m\u001b[0;34m\u001b[0m\u001b[0;34m\u001b[0m\u001b[0m\n\u001b[1;32m      5\u001b[0m \u001b[0mprint\u001b[0m\u001b[0;34m(\u001b[0m\u001b[0mc\u001b[0m\u001b[0;34m)\u001b[0m\u001b[0;34m\u001b[0m\u001b[0;34m\u001b[0m\u001b[0m\n",
      "\u001b[0;31mNameError\u001b[0m: name 'b' is not defined"
     ]
    }
   ],
   "source": [
    "# Важливо! Усі змінні мають бути оголошені до їх використання.\n",
    "a = 5\n",
    "c = a + b * 3 # Помилка!\n",
    "b = 10\n",
    "print(c)"
   ]
  },
  {
   "cell_type": "code",
   "execution_count": 31,
   "metadata": {
    "pycharm": {
     "name": "#%%\n"
    },
    "scrolled": true
   },
   "outputs": [
    {
     "name": "stdout",
     "output_type": "stream",
     "text": [
      "140027550481872\n",
      "140027550481872\n",
      "354\n"
     ]
    }
   ],
   "source": [
    "# якщо ім'я змінної зустрічається і праворуч, і ліворуч від оператора то,\n",
    "# це означає, що нове значення для змінної зліва, обчислюється на\n",
    "# на підставі старого значення (праворуч від оператора = )\n",
    "age = 353\n",
    "age1 = age\n",
    "print(id(age1))\n",
    "print(id(age))\n",
    "age = age + 1\n",
    "print(age)\n"
   ]
  },
  {
   "cell_type": "code",
   "execution_count": 32,
   "metadata": {},
   "outputs": [
    {
     "name": "stdout",
     "output_type": "stream",
     "text": [
      "140027576122032\n",
      "353\n",
      "140027550481872\n"
     ]
    }
   ],
   "source": [
    "\n",
    "print(id(age)) # У змінній міститься інша адреса, що вказує на нове значення\n",
    "print(age1)\n",
    "print(id(age1))"
   ]
  },
  {
   "cell_type": "code",
   "execution_count": 33,
   "metadata": {},
   "outputs": [
    {
     "name": "stdout",
     "output_type": "stream",
     "text": [
      "355\n"
     ]
    }
   ],
   "source": [
    "age += 1\n",
    "print(age)"
   ]
  },
  {
   "cell_type": "code",
   "execution_count": 34,
   "metadata": {},
   "outputs": [
    {
     "name": "stdout",
     "output_type": "stream",
     "text": [
      "105\n"
     ]
    }
   ],
   "source": [
    "# Дію \"на місці\" можна використовувати з будь-яким математичним знаком\n",
    "age = 35\n",
    "age *= 3\n",
    "print(age)"
   ]
  },
  {
   "cell_type": "markdown",
   "metadata": {},
   "source": [
    "#### Завдання\n",
    "Дано 4-х значне число. Потрібно \"розділити\" це число посередині."
   ]
  },
  {
   "cell_type": "code",
   "execution_count": 35,
   "metadata": {
    "pycharm": {
     "name": "#%%\n"
    }
   },
   "outputs": [
    {
     "name": "stdout",
     "output_type": "stream",
     "text": [
      "72 54\n"
     ]
    }
   ],
   "source": [
    "x = 100\n",
    "digit = 7254  #  72 * 100 + 54 = 7254\n",
    "left, right = divmod(digit, x)\n",
    "print(left, right)"
   ]
  },
  {
   "cell_type": "code",
   "execution_count": 36,
   "metadata": {
    "scrolled": true
   },
   "outputs": [
    {
     "name": "stdout",
     "output_type": "stream",
     "text": [
      "7254 0\n"
     ]
    }
   ],
   "source": [
    "left, right = divmod(digit, 1)\n",
    "print(left, right)  #  right = 0 тому що будь-яке ціле число, ділитися на 1 без залишку"
   ]
  },
  {
   "cell_type": "code",
   "execution_count": 37,
   "metadata": {},
   "outputs": [
    {
     "name": "stdout",
     "output_type": "stream",
     "text": [
      "7 254\n"
     ]
    }
   ],
   "source": [
    "left, right = divmod(digit, 1000)\n",
    "print(left, right)  # left = 7 тому що 7 * 1000 + 524 = 7524"
   ]
  },
  {
   "cell_type": "markdown",
   "metadata": {
    "pycharm": {
     "name": "#%% md\n"
    }
   },
   "source": [
    "### Системи числення"
   ]
  },
  {
   "cell_type": "markdown",
   "metadata": {},
   "source": [
    "**Десятичні числа**\n",
    "\n",
    "Зазвичай записуємо числа, використовуючи так звану десяткову позиційну систему числення."
   ]
  },
  {
   "cell_type": "code",
   "execution_count": null,
   "metadata": {},
   "outputs": [],
   "source": [
    "# 279\n",
    "print(2 * 10**2 + 7 * 10**1 + 9 * 10**0)"
   ]
  },
  {
   "cell_type": "markdown",
   "metadata": {},
   "source": [
    "Це десяткова система, або система з основою 10 і тому кожна позиція – це ступінь десяти; іншими словами, 10 множиться на саму себе певну кількість разів. Найправіша позиція – це 10, зведене у ступінь 0, що дорівює 1, тому що будь-яке число, зведене в ступінь 0, дорівнює 1. Наступна позиція - це 10, зведене в ступінь 1, що дорівнює 10, далі - це 10, зведене в ступінь 2 (10 × 10), що дає 100.\n",
    "\n",
    "Якби нам потрібно було представити число більше 999 у десятковій системі, ми додали б ще одну позицію зліва, позицію тисяч, і вага цієї позиції дорівнювала б 10 у ступені 3 (10 × 10 × 10), тобто 1000.\n",
    "\n",
    "За такою схемою ми можемо уявити будь-яке велике ціле число, додаючи при необхідності нові позиції."
   ]
  },
  {
   "cell_type": "markdown",
   "metadata": {},
   "source": [
    "**Двійкові числа**\n",
    "\n",
    "Система числення, що складається лише з двох цифр, - це система з основою 2 або двійкова система. Двійкова система, як і раніше, є позиційною системою числення, тому фундаментальна техніка така сама, як і у десяткової системи, але є кілька змін. По-перше, кожна позиція є ступенем 2, а не ступінь 10. По-друге, на кожній позиції може бути лише одна з двох цифр (0 або 1, тому і \"двійкова система\", бо всього два числа), а не один із десяти.\n",
    "\n",
    "Нижче наведено приклад того, як записується число 5 у двійковій системі числення."
   ]
  },
  {
   "cell_type": "code",
   "execution_count": 38,
   "metadata": {},
   "outputs": [
    {
     "name": "stdout",
     "output_type": "stream",
     "text": [
      "5\n"
     ]
    }
   ],
   "source": [
    "print((1 * 2**2) + (0 * 2**1) + (1 * 2**0))# 101 у двійковій системі"
   ]
  },
  {
   "cell_type": "markdown",
   "metadata": {},
   "source": [
    "Як і в десятковій системі числення, кожна позиція має вагу, рівну основі, зведеній в різні ступені. Оскільки ми маємо основу 2, найправіша позиція – це 2 у ступені 0, тобто 1. Наступна позиція – це 2 у ступені 1, тобто 2, далі 2 × 2, тобто 4. Так як і в десятковій системі, для отримання загального значення ми множимо символ у кожній позиції на вагу позиції та підсумовуємо результати."
   ]
  },
  {
   "cell_type": "markdown",
   "metadata": {},
   "source": [
    "**Біти та байти**\n",
    "\n",
    "Кожен біт може бути або 0 або 1. Один біт не може передати багато інформації; він або вимкнений або включений, тобто або 0 або 1. Для представлення чогось більш складного нам потрібна велика послідовність бітів. Щоб полегшити роботу з цими послідовностями бітів, прийнято поєднувати біти в набори по вісім штук, які називаються байтами."
   ]
  },
  {
   "cell_type": "markdown",
   "metadata": {},
   "source": [
    "То скільки ж даних ми можемо зберігати в байті? Інший спосіб подивитися на це питання – це знайти скільки унікальних комбінацій з нулів і одиниць ми можемо зробити за допомогою наших 8 біт?"
   ]
  },
  {
   "cell_type": "code",
   "execution_count": 39,
   "metadata": {},
   "outputs": [
    {
     "name": "stdout",
     "output_type": "stream",
     "text": [
      "256\n"
     ]
    }
   ],
   "source": [
    "print(2**8) # 256 "
   ]
  },
  {
   "cell_type": "code",
   "execution_count": 40,
   "metadata": {},
   "outputs": [
    {
     "name": "stdout",
     "output_type": "stream",
     "text": [
      "65536\n"
     ]
    }
   ],
   "source": [
    "print(2**16) # 65536 "
   ]
  },
  {
   "cell_type": "code",
   "execution_count": 41,
   "metadata": {},
   "outputs": [
    {
     "name": "stdout",
     "output_type": "stream",
     "text": [
      "4294967296\n"
     ]
    }
   ],
   "source": [
    "print(2**32)"
   ]
  },
  {
   "cell_type": "code",
   "execution_count": 42,
   "metadata": {},
   "outputs": [
    {
     "name": "stdout",
     "output_type": "stream",
     "text": [
      "18446744073709551616\n"
     ]
    }
   ],
   "source": [
    "print(2**64)"
   ]
  },
  {
   "cell_type": "markdown",
   "metadata": {},
   "source": [
    "tera  1 099 511 627 776 => `2**40`\n",
    "\n",
    "giga  1 073 741 824 => `2**30`\n",
    "\n",
    "mega  1 048 576 => `2**20`\n",
    "\n",
    "kilo  1 024 => `2**10`"
   ]
  },
  {
   "cell_type": "markdown",
   "metadata": {},
   "source": [
    "**Шістнадцяткова система**\n",
    "\n",
    "Наша «звичайна» система числення – десяткова, або з основою 10. Комп'ютери використовують двійкову систему числення, або з основою 2. Шістнадцяткова – це система з основою 16!\n",
    "\n",
    "Шістнадцяткова система числення – це позиційна система числення, в якій кожна позиція є ступінь шістнадцяти та на кожній позиції може бути один із шістнадцяти символів.\n",
    "\n",
    "Як і у всіх позиційних системах числення, крайня права позиція, як і раніше, буде позицією одиниць. Наступна позиція зліва буде позицією 16, потім позиція 256 (16 × 16), потім – 4096 (16 × 16 × 16) і т. д. Досить просто.\n",
    "Зазвичай ми використовуємо десять символів для представлення чисел від 0 до 9. Нам потрібно додати ще шість символів для представлення інших значень. Ми могли б вибрати кілька випадкових символів, наприклад, & @ #, але ці символи не мають очевидного порядку. Натомість стандартом є використання A, B, C, D, E і F (великі або малі – неважливо!). У цій схемі A позначає 10, B - 11 і т. д., аж до F, яка позначає 15. Це має сенс, так як нам потрібні символи, які представляють значення від нуля до значення підстави за вирахуванням одиниці. Тому наші\n",
    "додаткові символи – це літери від A до F. Стандартною практикою є використання префікса 0x для позначення шістнадцяткової системи, коли необхідно підкреслити.\n",
    "\n",
    "Зберігання даних всередині комп'ютера - набір 16 чисел 0F 00 FF 10"
   ]
  },
  {
   "cell_type": "code",
   "execution_count": 43,
   "metadata": {},
   "outputs": [
    {
     "name": "stdout",
     "output_type": "stream",
     "text": [
      "421\n"
     ]
    }
   ],
   "source": [
    "print((0 * 16**3) + (1 * 16**2) + (10 * 16**1) + (5 * 16**0)) # 01 A5(hex) => 421(decimal)"
   ]
  },
  {
   "cell_type": "markdown",
   "metadata": {},
   "source": [
    "У комп'ютері використовується двійковий код, тому число 19 у двійковій системі числення буде виглядати як 10011.\n",
    "Також іноді потрібно переводити числа з однієї системи числення до іншої. Python для цього надає декілька функцій:\n",
    "\n",
    "**int([object], [основа системи числення])** - перетворення до цілого числа в десятковій системі числення. За умовчанням система числення десяткова, але можна задати будь-яку основу від 2 до 36 включно.\n",
    "\n",
    "**bin(x)** - перетворення цілого числа на двійковий рядок.\n",
    "\n",
    "**hex(х)** - перетворення цілого числа в шістнадцятковий рядок.\n",
    "\n",
    "**oct(х)** - перетворення цілого числа у вісімковий рядок."
   ]
  },
  {
   "cell_type": "code",
   "execution_count": 44,
   "metadata": {},
   "outputs": [
    {
     "data": {
      "text/plain": [
       "4"
      ]
     },
     "execution_count": 44,
     "metadata": {},
     "output_type": "execute_result"
    }
   ],
   "source": [
    "int('4') #  Перетворює з рядка на ціле число. За замовчуванням у десяткове\n"
   ]
  },
  {
   "cell_type": "code",
   "execution_count": 45,
   "metadata": {},
   "outputs": [
    {
     "data": {
      "text/plain": [
       "4"
      ]
     },
     "execution_count": 45,
     "metadata": {},
     "output_type": "execute_result"
    }
   ],
   "source": [
    "int('4', 10)  # явно вказано десяткову систему числення\n"
   ]
  },
  {
   "cell_type": "code",
   "execution_count": 46,
   "metadata": {},
   "outputs": [
    {
     "data": {
      "text/plain": [
       "3"
      ]
     },
     "execution_count": 46,
     "metadata": {},
     "output_type": "execute_result"
    }
   ],
   "source": [
    "int('11', 2) # у двійковій системі числення\n"
   ]
  },
  {
   "cell_type": "code",
   "execution_count": 47,
   "metadata": {},
   "outputs": [
    {
     "data": {
      "text/plain": [
       "11"
      ]
     },
     "execution_count": 47,
     "metadata": {},
     "output_type": "execute_result"
    }
   ],
   "source": [
    "int('11', 10)"
   ]
  },
  {
   "cell_type": "code",
   "execution_count": 48,
   "metadata": {},
   "outputs": [
    {
     "data": {
      "text/plain": [
       "2"
      ]
     },
     "execution_count": 48,
     "metadata": {},
     "output_type": "execute_result"
    }
   ],
   "source": [
    "int('10', 2)"
   ]
  },
  {
   "cell_type": "code",
   "execution_count": 49,
   "metadata": {
    "scrolled": true
   },
   "outputs": [
    {
     "data": {
      "text/plain": [
       "35"
      ]
     },
     "execution_count": 49,
     "metadata": {},
     "output_type": "execute_result"
    }
   ],
   "source": [
    "int('z', 36)"
   ]
  },
  {
   "cell_type": "code",
   "execution_count": 50,
   "metadata": {},
   "outputs": [
    {
     "data": {
      "text/plain": [
       "36"
      ]
     },
     "execution_count": 50,
     "metadata": {},
     "output_type": "execute_result"
    }
   ],
   "source": [
    "int('10', 36)"
   ]
  },
  {
   "cell_type": "code",
   "execution_count": null,
   "metadata": {},
   "outputs": [],
   "source": []
  },
  {
   "cell_type": "code",
   "execution_count": 51,
   "metadata": {},
   "outputs": [
    {
     "data": {
      "text/plain": [
       "15"
      ]
     },
     "execution_count": 51,
     "metadata": {},
     "output_type": "execute_result"
    }
   ],
   "source": [
    "int('F', 16)"
   ]
  },
  {
   "cell_type": "code",
   "execution_count": 52,
   "metadata": {},
   "outputs": [
    {
     "data": {
      "text/plain": [
       "16"
      ]
     },
     "execution_count": 52,
     "metadata": {},
     "output_type": "execute_result"
    }
   ],
   "source": [
    "int('10', 16)"
   ]
  },
  {
   "cell_type": "code",
   "execution_count": 53,
   "metadata": {},
   "outputs": [
    {
     "ename": "ValueError",
     "evalue": "invalid literal for int() with base 10: '4.5'",
     "output_type": "error",
     "traceback": [
      "\u001b[0;31m---------------------------------------------------------------------------\u001b[0m",
      "\u001b[0;31mValueError\u001b[0m                                Traceback (most recent call last)",
      "\u001b[0;32m/tmp/ipykernel_4714/2308286727.py\u001b[0m in \u001b[0;36m<module>\u001b[0;34m\u001b[0m\n\u001b[1;32m      1\u001b[0m \u001b[0;31m# Error\u001b[0m\u001b[0;34m\u001b[0m\u001b[0;34m\u001b[0m\u001b[0;34m\u001b[0m\u001b[0m\n\u001b[0;32m----> 2\u001b[0;31m \u001b[0mint\u001b[0m\u001b[0;34m(\u001b[0m\u001b[0;34m'4.5'\u001b[0m\u001b[0;34m)\u001b[0m \u001b[0;31m#  рядок має виглядати як ціле число і не містити нічого крім цифр\u001b[0m\u001b[0;34m\u001b[0m\u001b[0;34m\u001b[0m\u001b[0m\n\u001b[0m",
      "\u001b[0;31mValueError\u001b[0m: invalid literal for int() with base 10: '4.5'"
     ]
    }
   ],
   "source": [
    "# Error\n",
    "int('4.5') #  рядок має виглядати як ціле число і не містити нічого крім цифр\n"
   ]
  },
  {
   "cell_type": "code",
   "execution_count": 54,
   "metadata": {},
   "outputs": [
    {
     "data": {
      "text/plain": [
       "19"
      ]
     },
     "execution_count": 54,
     "metadata": {},
     "output_type": "execute_result"
    }
   ],
   "source": [
    "int(19.5) # залишається тільки ціла частина без заокруглень!"
   ]
  },
  {
   "cell_type": "code",
   "execution_count": 55,
   "metadata": {},
   "outputs": [
    {
     "data": {
      "text/plain": [
       "19"
      ]
     },
     "execution_count": 55,
     "metadata": {},
     "output_type": "execute_result"
    }
   ],
   "source": [
    "int(19.999999) # \n"
   ]
  },
  {
   "cell_type": "code",
   "execution_count": 56,
   "metadata": {},
   "outputs": [
    {
     "name": "stdout",
     "output_type": "stream",
     "text": [
      "0b10011\n",
      "0o23\n",
      "0x13\n",
      "19\n",
      "19\n"
     ]
    }
   ],
   "source": [
    "print(bin(19)) # '0b10011'\n",
    "print(oct(19)) # '0o23'\n",
    "print(hex(19)) # '0x13'\n",
    "print(int('10011', 2)) # 19\n",
    "print(int('0b10011', 2)) # 19"
   ]
  },
  {
   "cell_type": "code",
   "execution_count": 57,
   "metadata": {
    "pycharm": {
     "name": "#%%\n"
    }
   },
   "outputs": [
    {
     "name": "stdout",
     "output_type": "stream",
     "text": [
      "179769313486231590772930519078902473361797697894230657273430081157732675805500963132708477322407536021120113879871393357658789768814416622492847430639474124377767893424865485276302219601246094119453082952085005768838150682342462881473913110540827237163350510684586298239947245938479716304835356329624224137216\n"
     ]
    }
   ],
   "source": [
    "print(2**1024)  # Цілі числа можуть бути дуже великими\n"
   ]
  },
  {
   "cell_type": "code",
   "execution_count": 58,
   "metadata": {
    "pycharm": {
     "name": "#%%\n"
    }
   },
   "outputs": [
    {
     "name": "stdout",
     "output_type": "stream",
     "text": [
      "359538626972463181545861038157804946723595395788461314546860162315465351611001926265416954644815072042240227759742786715317579537628833244985694861278948248755535786849730970552604439202492188238906165904170011537676301364684925762947826221081654474326701021369172596479894491876959432609670712659248448274432\n"
     ]
    }
   ],
   "source": [
    "print(2**1025)"
   ]
  },
  {
   "cell_type": "code",
   "execution_count": 59,
   "metadata": {},
   "outputs": [
    {
     "name": "stdout",
     "output_type": "stream",
     "text": [
      "10000000000000\n"
     ]
    }
   ],
   "source": [
    "# Варіант форматування великих чисел\n",
    "x = 10_000_000_000_000\n",
    "print(x)"
   ]
  },
  {
   "cell_type": "markdown",
   "metadata": {
    "pycharm": {
     "name": "#%% md\n"
    }
   },
   "source": [
    "### Числа з плаваючою крапкою в Python\n",
    " \n",
    "Головною відмінністю чисел із плаваючою крапкою від цілих є наявність символу \".\" яка відокремлює цілу частину від дробової:\n",
    "\n",
    "`2.78 2.0 2. 0.78.78`\n",
    "\n",
    "У Python представлені типом **float**.\n",
    "Якщо на довжину цілих чисел не накладається жодних обмежень за величиною, то з речовими числами це не так. Діапазон можливих значень [-1.8E308, 1.8E308].\n",
    "Також потрібно знати, що ці змінні мають точність лише до 16 знаків після коми.\n",
    "\n"
   ]
  },
  {
   "cell_type": "code",
   "execution_count": 60,
   "metadata": {
    "pycharm": {
     "name": "#%%\n"
    }
   },
   "outputs": [
    {
     "ename": "OverflowError",
     "evalue": "int too large to convert to float",
     "output_type": "error",
     "traceback": [
      "\u001b[0;31m---------------------------------------------------------------------------\u001b[0m",
      "\u001b[0;31mOverflowError\u001b[0m                             Traceback (most recent call last)",
      "\u001b[0;32m/tmp/ipykernel_4714/3387730117.py\u001b[0m in \u001b[0;36m<module>\u001b[0;34m\u001b[0m\n\u001b[1;32m      1\u001b[0m \u001b[0ma\u001b[0m \u001b[0;34m=\u001b[0m \u001b[0;36m2\u001b[0m\u001b[0;34m**\u001b[0m\u001b[0;36m1025\u001b[0m\u001b[0;34m\u001b[0m\u001b[0;34m\u001b[0m\u001b[0m\n\u001b[0;32m----> 2\u001b[0;31m \u001b[0mb\u001b[0m \u001b[0;34m=\u001b[0m \u001b[0ma\u001b[0m \u001b[0;34m+\u001b[0m \u001b[0;36m0.1\u001b[0m\u001b[0;34m\u001b[0m\u001b[0;34m\u001b[0m\u001b[0m\n\u001b[0m\u001b[1;32m      3\u001b[0m \u001b[0mprint\u001b[0m\u001b[0;34m(\u001b[0m\u001b[0mb\u001b[0m\u001b[0;34m)\u001b[0m  \u001b[0;31m# OverflowError: int too large to convert to float\u001b[0m\u001b[0;34m\u001b[0m\u001b[0;34m\u001b[0m\u001b[0m\n",
      "\u001b[0;31mOverflowError\u001b[0m: int too large to convert to float"
     ]
    }
   ],
   "source": [
    "a = 2**1025\n",
    "b = a + 0.1\n",
    "print(b)  # OverflowError: int too large to convert to float"
   ]
  },
  {
   "cell_type": "markdown",
   "metadata": {},
   "source": [
    "**Важливо**: числа типу *float* не є десятковими дробами і використовують двійкову арифметику комп'ютера, тому більшість навіть найпростіших виразів можуть обчислюватися з мізерно малими похибками. Однак, через ці похибки, цілком очевидні операції порівняння працюють не так, як очікується."
   ]
  },
  {
   "cell_type": "code",
   "execution_count": 61,
   "metadata": {},
   "outputs": [
    {
     "name": "stdout",
     "output_type": "stream",
     "text": [
      "0.30000000000000004\n"
     ]
    }
   ],
   "source": [
    "print(0.1 + 0.1 + 0.1) # = 0.3?"
   ]
  },
  {
   "cell_type": "code",
   "execution_count": 62,
   "metadata": {},
   "outputs": [
    {
     "name": "stdout",
     "output_type": "stream",
     "text": [
      "0.2\n"
     ]
    }
   ],
   "source": [
    "print(0.1 + 0.1) \n"
   ]
  },
  {
   "cell_type": "code",
   "execution_count": 63,
   "metadata": {},
   "outputs": [
    {
     "name": "stdout",
     "output_type": "stream",
     "text": [
      "0.8999999999999999\n"
     ]
    }
   ],
   "source": [
    "print(0.3 + 0.3 + 0.3) "
   ]
  },
  {
   "cell_type": "markdown",
   "metadata": {
    "pycharm": {
     "name": "#%% md\n"
    }
   },
   "source": [
    "#### помилки не накопичуються для дробів зі знаменником числа за рівнем двійки - 2, 4, 8, 16"
   ]
  },
  {
   "cell_type": "code",
   "execution_count": 64,
   "metadata": {
    "pycharm": {
     "name": "#%%\n"
    }
   },
   "outputs": [
    {
     "name": "stdout",
     "output_type": "stream",
     "text": [
      "1.5\n"
     ]
    }
   ],
   "source": [
    "print(0.5 + 0.5 + 0.5)"
   ]
  },
  {
   "cell_type": "code",
   "execution_count": 65,
   "metadata": {
    "pycharm": {
     "name": "#%%\n"
    }
   },
   "outputs": [
    {
     "name": "stdout",
     "output_type": "stream",
     "text": [
      "0.75\n"
     ]
    }
   ],
   "source": [
    "print(0.25 + 0.25 + 0.25)"
   ]
  },
  {
   "cell_type": "code",
   "execution_count": 66,
   "metadata": {
    "pycharm": {
     "name": "#%%\n"
    }
   },
   "outputs": [
    {
     "name": "stdout",
     "output_type": "stream",
     "text": [
      "0.375\n"
     ]
    }
   ],
   "source": [
    "print(0.125 + 0.125 + 0.125)"
   ]
  },
  {
   "cell_type": "markdown",
   "metadata": {},
   "source": [
    "**За допомогою функції round можна округлити значення до певної кількості знаків після точки**"
   ]
  },
  {
   "cell_type": "code",
   "execution_count": 67,
   "metadata": {},
   "outputs": [
    {
     "name": "stdout",
     "output_type": "stream",
     "text": [
      "0.9\n"
     ]
    }
   ],
   "source": [
    "z = 0.3 + 0.3 + 0.3\n",
    "print(round(z, 3))"
   ]
  },
  {
   "cell_type": "code",
   "execution_count": 68,
   "metadata": {},
   "outputs": [
    {
     "name": "stdout",
     "output_type": "stream",
     "text": [
      "0.9\n"
     ]
    }
   ],
   "source": [
    "z = 0.3 + 0.3 + 0.3\n",
    "print(round(z, 1))"
   ]
  },
  {
   "cell_type": "code",
   "execution_count": 69,
   "metadata": {},
   "outputs": [
    {
     "name": "stdout",
     "output_type": "stream",
     "text": [
      "4.565\n"
     ]
    }
   ],
   "source": [
    "print(round(4.5646546465465464 , 3))"
   ]
  },
  {
   "cell_type": "code",
   "execution_count": 70,
   "metadata": {
    "scrolled": true
   },
   "outputs": [
    {
     "name": "stdout",
     "output_type": "stream",
     "text": [
      "6.0\n",
      "<class 'float'>\n"
     ]
    }
   ],
   "source": [
    "x = 1.5 * 4 #  Якщо в дії бере участь float, то результат буде теж float\n",
    "print(x)\n",
    "print(type(x))"
   ]
  },
  {
   "cell_type": "code",
   "execution_count": 71,
   "metadata": {},
   "outputs": [
    {
     "name": "stdout",
     "output_type": "stream",
     "text": [
      "2.0\n"
     ]
    }
   ],
   "source": [
    "print(4 / 2) #   Поділ завжди повертає float\n"
   ]
  },
  {
   "cell_type": "markdown",
   "metadata": {},
   "source": [
    "### Методи float "
   ]
  },
  {
   "cell_type": "markdown",
   "metadata": {},
   "source": [
    "#### Метод is_integer()\n",
    "повертає True якщо дробова частина числа дорівнює 0 і False якщо ні"
   ]
  },
  {
   "cell_type": "markdown",
   "metadata": {},
   "source": [
    "### Важливо!\n",
    "**Функції, вбудовані в інтерпретатор, не залежать від типу даних, які їм передаються як аргументи. Метод - це теж функція, але є невід'ємною частиною якогось типу даних. Тобто не вдасться застосовувати методи, які властиві одному типу даних, до іншого типу даних.**"
   ]
  },
  {
   "cell_type": "code",
   "execution_count": 72,
   "metadata": {},
   "outputs": [
    {
     "name": "stdout",
     "output_type": "stream",
     "text": [
      "True\n"
     ]
    }
   ],
   "source": [
    "x = 1.5 * 4\n",
    "res = x.is_integer()\n",
    "print(res)"
   ]
  },
  {
   "cell_type": "code",
   "execution_count": 73,
   "metadata": {},
   "outputs": [
    {
     "name": "stdout",
     "output_type": "stream",
     "text": [
      "False\n"
     ]
    }
   ],
   "source": [
    "y = 5 / 2\n",
    "print(y.is_integer())"
   ]
  },
  {
   "cell_type": "code",
   "execution_count": 74,
   "metadata": {},
   "outputs": [
    {
     "name": "stdout",
     "output_type": "stream",
     "text": [
      "True\n"
     ]
    }
   ],
   "source": [
    "print(6.0.is_integer())"
   ]
  },
  {
   "cell_type": "code",
   "execution_count": 75,
   "metadata": {
    "pycharm": {
     "name": "#%%\n"
    }
   },
   "outputs": [
    {
     "ename": "SyntaxError",
     "evalue": "invalid syntax (1396179977.py, line 1)",
     "output_type": "error",
     "traceback": [
      "\u001b[0;36m  File \u001b[0;32m\"/tmp/ipykernel_4714/1396179977.py\"\u001b[0;36m, line \u001b[0;32m1\u001b[0m\n\u001b[0;31m    print(6.is_integer())  # error У типу даних \"ціле число\" немає такого методу!\u001b[0m\n\u001b[0m            ^\u001b[0m\n\u001b[0;31mSyntaxError\u001b[0m\u001b[0;31m:\u001b[0m invalid syntax\n"
     ]
    }
   ],
   "source": [
    "print(6.is_integer())  # error У типу даних \"ціле число\" немає такого методу!\n"
   ]
  },
  {
   "cell_type": "markdown",
   "metadata": {},
   "source": [
    "\n",
    "#### Метод as_integer_ratio()\n",
    "  повертає пару цілих чисел (кортеж), перше з яких дорівнює чисельнику, а друге завжди позитивному знаменнику звичайного дробу, значення якого точно збігається із зазначеним вихідним числом типу float:"
   ]
  },
  {
   "cell_type": "code",
   "execution_count": 76,
   "metadata": {
    "scrolled": true
   },
   "outputs": [
    {
     "name": "stdout",
     "output_type": "stream",
     "text": [
      "(5404319552844595, 18014398509481984)\n"
     ]
    }
   ],
   "source": [
    "print((0.3).as_integer_ratio())"
   ]
  },
  {
   "cell_type": "code",
   "execution_count": 91,
   "metadata": {},
   "outputs": [
    {
     "data": {
      "text/plain": [
       "0.3"
      ]
     },
     "execution_count": 91,
     "metadata": {},
     "output_type": "execute_result"
    }
   ],
   "source": [
    "5404319552844595/18014398509481984"
   ]
  },
  {
   "cell_type": "markdown",
   "metadata": {},
   "source": [
    "**Функція *float*, як і *int*, може робити перетворення з рядка в число. Тільки це число вже буде float**"
   ]
  },
  {
   "cell_type": "code",
   "execution_count": 77,
   "metadata": {},
   "outputs": [
    {
     "name": "stdout",
     "output_type": "stream",
     "text": [
      "2.5\n"
     ]
    }
   ],
   "source": [
    "print(float('2.5'))\n"
   ]
  },
  {
   "cell_type": "code",
   "execution_count": 78,
   "metadata": {
    "scrolled": true
   },
   "outputs": [
    {
     "name": "stdout",
     "output_type": "stream",
     "text": [
      "2.0\n"
     ]
    }
   ],
   "source": [
    "print(float('2'))"
   ]
  },
  {
   "cell_type": "code",
   "execution_count": 79,
   "metadata": {
    "pycharm": {
     "name": "#%%\n"
    }
   },
   "outputs": [
    {
     "name": "stdout",
     "output_type": "stream",
     "text": [
      "2.0\n"
     ]
    }
   ],
   "source": [
    "print(float(2))"
   ]
  },
  {
   "cell_type": "markdown",
   "metadata": {
    "pycharm": {
     "name": "#%% md\n"
    }
   },
   "source": [
    "### Додаткові математичні методи з модуля math"
   ]
  },
  {
   "cell_type": "code",
   "execution_count": 80,
   "metadata": {},
   "outputs": [
    {
     "name": "stdout",
     "output_type": "stream",
     "text": [
      "acos  *  acosh  *  asin  *  asinh  *  atan  *  atan2  *  atanh  *  ceil  *  comb  *  \n",
      "copysign  *  cos  *  cosh  *  degrees  *  dist  *  e  *  erf  *  erfc  *  exp  *  expm1  *  \n",
      "fabs  *  factorial  *  floor  *  fmod  *  frexp  *  fsum  *  gamma  *  gcd  *  hypot  *  inf  *  \n",
      "isclose  *  isfinite  *  isinf  *  isnan  *  isqrt  *  ldexp  *  lgamma  *  log  *  log10  *  log1p  *  \n",
      "log2  *  modf  *  nan  *  perm  *  pi  *  pow  *  prod  *  radians  *  remainder  *  sin  *  \n",
      "sinh  *  sqrt  *  tan  *  tanh  *  tau  *  trunc  *  "
     ]
    }
   ],
   "source": [
    "import math\n",
    "\n",
    "a = 1\n",
    "for method in dir(math):\n",
    "    if not '__' in method:\n",
    "        print(method, end='  *  ')\n",
    "        a += 1\n",
    "    if not a % 10:\n",
    "        print()"
   ]
  },
  {
   "cell_type": "code",
   "execution_count": 81,
   "metadata": {},
   "outputs": [
    {
     "name": "stdout",
     "output_type": "stream",
     "text": [
      "-1.8708286933869707\n"
     ]
    }
   ],
   "source": [
    "x = math.sqrt(7) * math.cos(math.pi * 3/4)\n",
    "print(x)"
   ]
  },
  {
   "cell_type": "markdown",
   "metadata": {
    "pycharm": {
     "name": "#%% md\n"
    }
   },
   "source": [
    "### Введення даних з клавіатури за допомогою функції input"
   ]
  },
  {
   "cell_type": "code",
   "execution_count": 82,
   "metadata": {},
   "outputs": [
    {
     "name": "stdout",
     "output_type": "stream",
     "text": [
      "Type x: 4\n"
     ]
    },
    {
     "data": {
      "text/plain": [
       "'4'"
      ]
     },
     "execution_count": 82,
     "metadata": {},
     "output_type": "execute_result"
    }
   ],
   "source": [
    "input('Type x: ')"
   ]
  },
  {
   "cell_type": "code",
   "execution_count": 83,
   "metadata": {},
   "outputs": [
    {
     "name": "stdout",
     "output_type": "stream",
     "text": [
      "Type x: 5\n"
     ]
    }
   ],
   "source": [
    "x = input('Type x: ')\n"
   ]
  },
  {
   "cell_type": "code",
   "execution_count": 84,
   "metadata": {},
   "outputs": [
    {
     "name": "stdout",
     "output_type": "stream",
     "text": [
      "5\n"
     ]
    }
   ],
   "source": [
    "print(x)\n"
   ]
  },
  {
   "cell_type": "code",
   "execution_count": 85,
   "metadata": {
    "scrolled": true
   },
   "outputs": [
    {
     "name": "stdout",
     "output_type": "stream",
     "text": [
      "Type y: 5\n"
     ]
    }
   ],
   "source": [
    "y = input('Type y: ')\n"
   ]
  },
  {
   "cell_type": "code",
   "execution_count": 86,
   "metadata": {
    "scrolled": true
   },
   "outputs": [
    {
     "name": "stdout",
     "output_type": "stream",
     "text": [
      "55\n"
     ]
    }
   ],
   "source": [
    "print(x + y)  #  ???"
   ]
  },
  {
   "cell_type": "code",
   "execution_count": 87,
   "metadata": {
    "pycharm": {
     "name": "#%%\n"
    },
    "scrolled": true
   },
   "outputs": [
    {
     "name": "stdout",
     "output_type": "stream",
     "text": [
      "Type x: 5\n",
      "Type y: 5\n",
      "10.0\n"
     ]
    }
   ],
   "source": [
    "#  Якщо очікується від користувача отримання числа, потрібно робити перетворення\n",
    "x = float(input('Type x: '))\n",
    "y = float(input('Type y: '))\n",
    "print(x + y)\n",
    "\n"
   ]
  },
  {
   "cell_type": "code",
   "execution_count": 89,
   "metadata": {},
   "outputs": [
    {
     "data": {
      "text/plain": [
       "10"
      ]
     },
     "execution_count": 89,
     "metadata": {},
     "output_type": "execute_result"
    }
   ],
   "source": [
    "int(10.0)"
   ]
  },
  {
   "cell_type": "code",
   "execution_count": 88,
   "metadata": {
    "pycharm": {
     "name": "#%%\n"
    },
    "scrolled": true
   },
   "outputs": [
    {
     "name": "stdout",
     "output_type": "stream",
     "text": [
      "Type int: 2.5\n"
     ]
    },
    {
     "ename": "ValueError",
     "evalue": "invalid literal for int() with base 10: '2.5'",
     "output_type": "error",
     "traceback": [
      "\u001b[0;31m---------------------------------------------------------------------------\u001b[0m",
      "\u001b[0;31mValueError\u001b[0m                                Traceback (most recent call last)",
      "\u001b[0;32m/tmp/ipykernel_4714/43677634.py\u001b[0m in \u001b[0;36m<module>\u001b[0;34m\u001b[0m\n\u001b[0;32m----> 1\u001b[0;31m \u001b[0mx\u001b[0m \u001b[0;34m=\u001b[0m \u001b[0mint\u001b[0m\u001b[0;34m(\u001b[0m\u001b[0minput\u001b[0m\u001b[0;34m(\u001b[0m\u001b[0;34m'Type int: '\u001b[0m\u001b[0;34m)\u001b[0m\u001b[0;34m)\u001b[0m  \u001b[0;31m#  Буде помилка, якщо користувач замість цілого числа вкаже число з плаваючою крапкою\u001b[0m\u001b[0;34m\u001b[0m\u001b[0;34m\u001b[0m\u001b[0m\n\u001b[0m",
      "\u001b[0;31mValueError\u001b[0m: invalid literal for int() with base 10: '2.5'"
     ]
    }
   ],
   "source": [
    "x = int(input('Type int: '))  #  Буде помилка, якщо користувач замість цілого числа вкаже число з плаваючою крапкою\n"
   ]
  },
  {
   "cell_type": "markdown",
   "metadata": {},
   "source": [
    "#### Як формується 5-ти значне число? Наприклад число 54321\n",
    "Це сума значень, де кожне значення - це відповідна цифра помножена на 10 у необхідному ступені, відповідно до положення цифри у цьому числі."
   ]
  },
  {
   "cell_type": "code",
   "execution_count": 90,
   "metadata": {},
   "outputs": [
    {
     "data": {
      "text/plain": [
       "54321"
      ]
     },
     "execution_count": 90,
     "metadata": {},
     "output_type": "execute_result"
    }
   ],
   "source": [
    "5 * 10000 + 4 * 1000 + 3 * 100 + 2 * 10 + 1 * 1"
   ]
  }
 ],
 "metadata": {
  "kernelspec": {
   "display_name": "Python 3 (ipykernel)",
   "language": "python",
   "name": "python3"
  },
  "language_info": {
   "codemirror_mode": {
    "name": "ipython",
    "version": 3
   },
   "file_extension": ".py",
   "mimetype": "text/x-python",
   "name": "python",
   "nbconvert_exporter": "python",
   "pygments_lexer": "ipython3",
   "version": "3.11.5"
  }
 },
 "nbformat": 4,
 "nbformat_minor": 4
}
